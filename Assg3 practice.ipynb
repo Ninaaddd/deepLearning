{
 "cells": [
  {
   "cell_type": "code",
   "execution_count": 1,
   "id": "34584a68",
   "metadata": {},
   "outputs": [],
   "source": [
    "import tensorflow as tf\n",
    "from tensorflow import keras\n",
    "from tensorflow.keras.models import Sequential\n",
    "from tensorflow.keras.layers import Flatten,Dense,Conv2D,MaxPooling2D\n",
    "from tensorflow.keras.preprocessing.image import ImageDataGenerator\n",
    "import numpy as np\n",
    "import matplotlib.pyplot as plt\n",
    "import random"
   ]
  },
  {
   "cell_type": "code",
   "execution_count": 13,
   "id": "8a5ed273",
   "metadata": {},
   "outputs": [
    {
     "name": "stdout",
     "output_type": "stream",
     "text": [
      "Found 60000 images belonging to 10 classes.\n",
      "Found 10000 images belonging to 10 classes.\n"
     ]
    }
   ],
   "source": [
    "train_data_dir = \"C:\\\\Users\\\\kulka\\\\Downloads\\\\DL\\\\DL\\\\minist-jpg\\\\train\"\n",
    "test_data_dir = \"C:\\\\Users\\\\kulka\\\\Downloads\\\\DL\\\\DL\\\\minist-jpg\\\\test\"\n",
    "\n",
    "train_datagen = ImageDataGenerator(rescale=1.0/255)\n",
    "test_datagen = ImageDataGenerator(rescale=1.0/255)\n",
    "\n",
    "train_batch_size = 10000\n",
    "train_generator = train_datagen.flow_from_directory(\n",
    "    train_data_dir,\n",
    "    target_size=(28,28),\n",
    "    batch_size=train_batch_size,\n",
    "    class_mode = 'sparse',\n",
    "    color_mode = 'grayscale',\n",
    "    shuffle = True\n",
    ")\n",
    "\n",
    "test_batch_size = 2000\n",
    "test_generator = test_datagen.flow_from_directory(\n",
    "    test_data_dir,\n",
    "    target_size = (28,28),\n",
    "    batch_size = test_batch_size,\n",
    "    class_mode = 'sparse',\n",
    "    color_mode = 'grayscale',\n",
    "    shuffle = True\n",
    ")"
   ]
  },
  {
   "cell_type": "code",
   "execution_count": 14,
   "id": "60eaaa32",
   "metadata": {},
   "outputs": [],
   "source": [
    "xtrain,ytrain = train_generator[0]\n",
    "xtest,ytest = test_generator[0]"
   ]
  },
  {
   "cell_type": "code",
   "execution_count": 15,
   "id": "19f41e64",
   "metadata": {},
   "outputs": [],
   "source": [
    "model = Sequential([Conv2D(32,(3,3),activation=\"relu\",input_shape=(28,28,1)),\n",
    "                    MaxPooling2D((2,2)),\n",
    "                    Flatten(),\n",
    "                    Dense(100,activation=\"relu\"),\n",
    "                    Dense(10,activation=\"softmax\")\n",
    "])"
   ]
  },
  {
   "cell_type": "code",
   "execution_count": 16,
   "id": "ec04296c",
   "metadata": {},
   "outputs": [],
   "source": [
    "model.compile(optimizer=\"sgd\",loss=\"sparse_categorical_crossentropy\",metrics=['accuracy'])"
   ]
  },
  {
   "cell_type": "code",
   "execution_count": 17,
   "id": "0f86aa73",
   "metadata": {},
   "outputs": [
    {
     "name": "stdout",
     "output_type": "stream",
     "text": [
      "Epoch 1/10\n",
      "313/313 [==============================] - 3s 9ms/step - loss: 1.1870 - accuracy: 0.7281 - val_loss: 0.4433 - val_accuracy: 0.8805\n",
      "Epoch 2/10\n",
      "313/313 [==============================] - 3s 9ms/step - loss: 0.4114 - accuracy: 0.8843 - val_loss: 0.3290 - val_accuracy: 0.9065\n",
      "Epoch 3/10\n",
      "313/313 [==============================] - 3s 9ms/step - loss: 0.3367 - accuracy: 0.9040 - val_loss: 0.3174 - val_accuracy: 0.9105\n",
      "Epoch 4/10\n",
      "313/313 [==============================] - 3s 9ms/step - loss: 0.2974 - accuracy: 0.9138 - val_loss: 0.2867 - val_accuracy: 0.9085\n",
      "Epoch 5/10\n",
      "313/313 [==============================] - 3s 9ms/step - loss: 0.2723 - accuracy: 0.9226 - val_loss: 0.2430 - val_accuracy: 0.9275\n",
      "Epoch 6/10\n",
      "313/313 [==============================] - 3s 9ms/step - loss: 0.2496 - accuracy: 0.9297 - val_loss: 0.2265 - val_accuracy: 0.9270\n",
      "Epoch 7/10\n",
      "313/313 [==============================] - 3s 9ms/step - loss: 0.2323 - accuracy: 0.9316 - val_loss: 0.2122 - val_accuracy: 0.9410\n",
      "Epoch 8/10\n",
      "313/313 [==============================] - 3s 9ms/step - loss: 0.2144 - accuracy: 0.9394 - val_loss: 0.2001 - val_accuracy: 0.9440\n",
      "Epoch 9/10\n",
      "313/313 [==============================] - 3s 9ms/step - loss: 0.1989 - accuracy: 0.9432 - val_loss: 0.2159 - val_accuracy: 0.9310\n",
      "Epoch 10/10\n",
      "313/313 [==============================] - 3s 9ms/step - loss: 0.1887 - accuracy: 0.9446 - val_loss: 0.2282 - val_accuracy: 0.9260\n"
     ]
    }
   ],
   "source": [
    "history = model.fit(xtrain,ytrain,epochs=10,validation_data=(xtest,ytest))"
   ]
  },
  {
   "cell_type": "code",
   "execution_count": 18,
   "id": "fb7f01e7",
   "metadata": {},
   "outputs": [
    {
     "name": "stdout",
     "output_type": "stream",
     "text": [
      "63/63 [==============================] - 0s 4ms/step - loss: 0.2282 - accuracy: 0.9260\n",
      "Loss: 22.8%\n",
      "Accuracy: 92.6%\n"
     ]
    }
   ],
   "source": [
    "test_loss, test_acc = model.evaluate(xtest,ytest)\n",
    "print(f\"Loss: {test_loss * 100:.1f}%\")\n",
    "print(f\"Accuracy: {test_acc * 100:.1f}%\")"
   ]
  },
  {
   "cell_type": "code",
   "execution_count": 19,
   "id": "b114b91b",
   "metadata": {},
   "outputs": [
    {
     "name": "stdout",
     "output_type": "stream",
     "text": [
      "63/63 [==============================] - 0s 4ms/step\n"
     ]
    }
   ],
   "source": [
    "predictions = model.predict(xtest)"
   ]
  },
  {
   "cell_type": "code",
   "execution_count": 22,
   "id": "a616308f",
   "metadata": {},
   "outputs": [
    {
     "data": {
      "image/png": "[encoded data removed]",
      "text/plain": [
       "<Figure size 432x288 with 1 Axes>"
      ]
     },
     "metadata": {
      "needs_background": "light"
     },
     "output_type": "display_data"
    },
    {
     "name": "stdout",
     "output_type": "stream",
     "text": [
      "Predicted number: 4\n"
     ]
    }
   ],
   "source": [
    "n = random.randint(0,99)\n",
    "plt.imshow(xtest[n])\n",
    "plt.show()\n",
    "print(\"Predicted number:\",np.argmax(predictions[n]))"
   ]
  },
  {
   "cell_type": "code",
   "execution_count": null,
   "id": "cb21184b",
   "metadata": {},
   "outputs": [],
   "source": []
  }
 ],
 "metadata": {
  "kernelspec": {
   "display_name": "Python 3 (ipykernel)",
   "language": "python",
   "name": "python3"
  },
  "language_info": {
   "codemirror_mode": {
    "name": "ipython",
    "version": 3
   },
   "file_extension": ".py",
   "mimetype": "text/x-python",
   "name": "python",
   "nbconvert_exporter": "python",
   "pygments_lexer": "ipython3",
   "version": "3.9.7"
  }
 },
 "nbformat": 4,
 "nbformat_minor": 5
}
