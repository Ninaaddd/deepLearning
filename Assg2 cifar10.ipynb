{
 "cells": [
  {
   "cell_type": "code",
   "execution_count": 10,
   "id": "b2b21317",
   "metadata": {},
   "outputs": [],
   "source": [
    "import tensorflow as tf\n",
    "from tensorflow import keras\n",
    "from tensorflow.keras.layers import Input,Conv2D,Dense,Dropout,Flatten\n",
    "from tensorflow.keras.layers import GlobalMaxPooling2D, MaxPooling2D, BatchNormalization\n",
    "from tensorflow.keras.models import Model\n",
    "from tensorflow.keras.utils import to_categorical\n",
    "from tensorflow.keras.preprocessing.image import ImageDataGenerator\n",
    "import matplotlib.pyplot as plt\n",
    "import numpy as np\n",
    "import random"
   ]
  },
  {
   "cell_type": "code",
   "execution_count": 6,
   "id": "6e94fcaa",
   "metadata": {},
   "outputs": [
    {
     "name": "stdout",
     "output_type": "stream",
     "text": [
      "Found 40079 images belonging to 10 classes.\n",
      "Found 9921 images belonging to 10 classes.\n"
     ]
    }
   ],
   "source": [
    "train_data_dir = \"C:\\\\Users\\\\kulka\\\\Downloads\\\\DL\\\\DL\\\\cifer-10-img\\\\train\"\n",
    "test_data_dir = \"C:\\\\Users\\\\kulka\\\\Downloads\\\\DL\\\\DL\\\\cifer-10-img\\\\test\"\n",
    "\n",
    "train_datagen = ImageDataGenerator(rescale=1.0/255)\n",
    "test_datagen = ImageDataGenerator(rescale=1.0/255)\n",
    "\n",
    "train_batch_size = 20000\n",
    "train_generator = train_datagen.flow_from_directory(\n",
    "    train_data_dir,\n",
    "    target_size=(32,32),\n",
    "    batch_size = train_batch_size,\n",
    "    class_mode = 'sparse',\n",
    "    shuffle = True\n",
    ")\n",
    "\n",
    "test_batch_size = 1000\n",
    "test_generator = test_datagen.flow_from_directory(\n",
    "    test_data_dir,\n",
    "    target_size=(32,32),\n",
    "    batch_size = test_batch_size,\n",
    "    class_mode = 'sparse',\n",
    "    shuffle = True\n",
    ")"
   ]
  },
  {
   "cell_type": "code",
   "execution_count": 7,
   "id": "ba20e2fe",
   "metadata": {},
   "outputs": [],
   "source": [
    "xtrain,ytrain = train_generator[0]\n",
    "xtest,ytest = test_generator[0]"
   ]
  },
  {
   "cell_type": "code",
   "execution_count": 8,
   "id": "5635af9b",
   "metadata": {},
   "outputs": [],
   "source": [
    "ytrain = ytrain.flatten()\n",
    "ytest = ytest.flatten()"
   ]
  },
  {
   "cell_type": "code",
   "execution_count": 11,
   "id": "bc268628",
   "metadata": {},
   "outputs": [
    {
     "name": "stdout",
     "output_type": "stream",
     "text": [
      "Number of classes: 10\n"
     ]
    }
   ],
   "source": [
    "K = len(set(ytrain))\n",
    "print(\"Number of classes:\",K)\n",
    "\n",
    "i = Input(shape=xtrain[0].shape)\n",
    "x = Conv2D(32, (3,3), activation = \"relu\", padding = \"same\")(i)\n",
    "x = BatchNormalization()(x)\n",
    "x = Conv2D(32, (3,3), activation = \"relu\", padding = \"same\")(x)\n",
    "x = BatchNormalization()(x)\n",
    "x = MaxPooling2D((2,2))(x)\n",
    "\n",
    "x = Conv2D(64, (3,3), activation = \"relu\", padding = \"same\")(i)\n",
    "x = BatchNormalization()(x)\n",
    "x = Conv2D(64, (3,3), activation = \"relu\", padding = \"same\")(x)\n",
    "x = BatchNormalization()(x)\n",
    "x = MaxPooling2D((2,2))(x)\n",
    "\n",
    "x = Conv2D(128, (3,3), activation = \"relu\", padding = \"same\")(i)\n",
    "x = BatchNormalization()(x)\n",
    "x = Conv2D(128, (3,3), activation = \"relu\", padding = \"same\")(x)\n",
    "x = BatchNormalization()(x)\n",
    "x = MaxPooling2D((2,2))(x)\n",
    "\n",
    "x = Flatten()(x)\n",
    "x = Dropout(0.2)(x)\n",
    "\n",
    "#Hidden Layer\n",
    "x = Dense(1024, activation = \"relu\")(x)\n",
    "x = Dropout(0.2)(x)\n",
    "\n",
    "#Output layer\n",
    "x = Dense(10, activation = \"softmax\")(x)\n",
    "\n",
    "model = Model(i,x)"
   ]
  },
  {
   "cell_type": "code",
   "execution_count": 12,
   "id": "a2d3a968",
   "metadata": {},
   "outputs": [],
   "source": [
    "model.compile(optimizer=\"sgd\",loss=\"sparse_categorical_crossentropy\",metrics=['accuracy'])"
   ]
  },
  {
   "cell_type": "code",
   "execution_count": 13,
   "id": "444dec3d",
   "metadata": {},
   "outputs": [
    {
     "name": "stdout",
     "output_type": "stream",
     "text": [
      "Epoch 1/10\n",
      "625/625 [==============================] - 208s 332ms/step - loss: 1.7239 - accuracy: 0.4227 - val_loss: 1.3311 - val_accuracy: 0.5240\n",
      "Epoch 2/10\n",
      "625/625 [==============================] - 201s 322ms/step - loss: 1.1985 - accuracy: 0.5760 - val_loss: 1.5164 - val_accuracy: 0.4800\n",
      "Epoch 3/10\n",
      "625/625 [==============================] - 209s 335ms/step - loss: 0.9263 - accuracy: 0.6740 - val_loss: 1.2079 - val_accuracy: 0.5780\n",
      "Epoch 4/10\n",
      "625/625 [==============================] - 206s 330ms/step - loss: 0.6874 - accuracy: 0.7569 - val_loss: 1.1413 - val_accuracy: 0.5860\n",
      "Epoch 5/10\n",
      "625/625 [==============================] - 213s 340ms/step - loss: 0.4754 - accuracy: 0.8370 - val_loss: 1.1487 - val_accuracy: 0.6230\n",
      "Epoch 6/10\n",
      "625/625 [==============================] - 221s 353ms/step - loss: 0.3021 - accuracy: 0.8993 - val_loss: 1.1672 - val_accuracy: 0.6330\n",
      "Epoch 7/10\n",
      "625/625 [==============================] - 229s 367ms/step - loss: 0.1915 - accuracy: 0.9396 - val_loss: 1.2292 - val_accuracy: 0.6320\n",
      "Epoch 8/10\n",
      "625/625 [==============================] - 222s 356ms/step - loss: 0.1237 - accuracy: 0.9635 - val_loss: 1.3384 - val_accuracy: 0.6210\n",
      "Epoch 9/10\n",
      "625/625 [==============================] - 225s 359ms/step - loss: 0.0814 - accuracy: 0.9783 - val_loss: 1.3003 - val_accuracy: 0.6360\n",
      "Epoch 10/10\n",
      "625/625 [==============================] - 224s 359ms/step - loss: 0.0587 - accuracy: 0.9854 - val_loss: 1.3314 - val_accuracy: 0.6480\n"
     ]
    }
   ],
   "source": [
    "history = model.fit(xtrain,ytrain,epochs=10,validation_data=(xtest,ytest))"
   ]
  },
  {
   "cell_type": "code",
   "execution_count": 14,
   "id": "4b979524",
   "metadata": {},
   "outputs": [
    {
     "name": "stdout",
     "output_type": "stream",
     "text": [
      "32/32 [==============================] - 2s 53ms/step - loss: 1.3314 - accuracy: 0.6480\n",
      "Loss: 133.1%\n",
      "Accuracy: 64.8%\n"
     ]
    }
   ],
   "source": [
    "test_loss, test_acc = model.evaluate(xtest,ytest)\n",
    "print(f\"Loss: {test_loss * 100:.1f}%\")\n",
    "print(f\"Accuracy: {test_acc * 100:.1f}%\")"
   ]
  },
  {
   "cell_type": "code",
   "execution_count": 15,
   "id": "476d8d11",
   "metadata": {},
   "outputs": [
    {
     "name": "stdout",
     "output_type": "stream",
     "text": [
      "32/32 [==============================] - 2s 53ms/step\n"
     ]
    }
   ],
   "source": [
    "y = to_categorical(ytest)\n",
    "predicted_value = model.predict(xtest)"
   ]
  },
  {
   "cell_type": "code",
   "execution_count": 16,
   "id": "35c52f69",
   "metadata": {},
   "outputs": [],
   "source": [
    "labels = list(test_generator.class_indices.keys())"
   ]
  },
  {
   "cell_type": "code",
   "execution_count": 17,
   "id": "40482897",
   "metadata": {},
   "outputs": [
    {
     "data": {
      "image/png": "[encoded data removed]",
      "text/plain": [
       "<Figure size 432x288 with 1 Axes>"
      ]
     },
     "metadata": {
      "needs_background": "light"
     },
     "output_type": "display_data"
    },
    {
     "name": "stdout",
     "output_type": "stream",
     "text": [
      "Actual: airplane\n",
      "Predicted: airplane\n"
     ]
    }
   ],
   "source": [
    "n = random.randint(0,999)\n",
    "plt.imshow(xtest[n])\n",
    "plt.show()\n",
    "print(\"Actual:\",labels[np.argmax(ytest[n])])\n",
    "print(\"Predicted:\",labels[np.argmax(predicted_value[n])])"
   ]
  },
  {
   "cell_type": "code",
   "execution_count": 19,
   "id": "27ad0e8d",
   "metadata": {},
   "outputs": [
    {
     "data": {
      "image/png": "[encoded data removed]",
      "text/plain": [
       "<Figure size 432x288 with 1 Axes>"
      ]
     },
     "metadata": {
      "needs_background": "light"
     },
     "output_type": "display_data"
    },
    {
     "data": {
      "image/png": "[encoded data removed]",
      "text/plain": [
       "<Figure size 432x288 with 1 Axes>"
      ]
     },
     "metadata": {
      "needs_background": "light"
     },
     "output_type": "display_data"
    }
   ],
   "source": [
    "plt.plot(history.history['accuracy'])\n",
    "plt.plot(history.history['val_accuracy'])\n",
    "plt.xlabel(\"Epochs\")\n",
    "plt.ylabel(\"Accuracy\")\n",
    "plt.title(\"Model Accuracy\")\n",
    "plt.legend(['Training','Validation'])\n",
    "plt.show()\n",
    "\n",
    "plt.plot(history.history['loss'])\n",
    "plt.plot(history.history['val_loss'])\n",
    "plt.xlabel(\"Epochs\")\n",
    "plt.ylabel(\"Loss\")\n",
    "plt.title(\"Model Loss\")\n",
    "plt.legend(['Training','Validation'])\n",
    "plt.show()"
   ]
  },
  {
   "cell_type": "code",
   "execution_count": null,
   "id": "dacf4667",
   "metadata": {},
   "outputs": [],
   "source": []
  }
 ],
 "metadata": {
  "kernelspec": {
   "display_name": "Python 3 (ipykernel)",
   "language": "python",
   "name": "python3"
  },
  "language_info": {
   "codemirror_mode": {
    "name": "ipython",
    "version": 3
   },
   "file_extension": ".py",
   "mimetype": "text/x-python",
   "name": "python",
   "nbconvert_exporter": "python",
   "pygments_lexer": "ipython3",
   "version": "3.9.7"
  }
 },
 "nbformat": 4,
 "nbformat_minor": 5
}
