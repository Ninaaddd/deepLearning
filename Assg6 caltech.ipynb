{
 "cells": [
  {
   "cell_type": "code",
   "execution_count": 1,
   "id": "9ea32b8b",
   "metadata": {},
   "outputs": [],
   "source": [
    "import tensorflow as tf\n",
    "from tensorflow import keras\n",
    "from tensorflow.keras.applications import VGG16\n",
    "from tensorflow.keras.models import Model\n",
    "from tensorflow.keras.layers import Flatten, Dense\n",
    "from tensorflow.keras.preprocessing.image import ImageDataGenerator\n",
    "import numpy as np\n",
    "import random\n",
    "import matplotlib.pyplot as plt"
   ]
  },
  {
   "cell_type": "code",
   "execution_count": 2,
   "id": "e9fb5427",
   "metadata": {},
   "outputs": [
    {
     "name": "stdout",
     "output_type": "stream",
     "text": [
      "Found 9144 images belonging to 102 classes.\n"
     ]
    }
   ],
   "source": [
    "dataset_dir = \"C:\\\\Users\\\\kulka\\\\Downloads\\\\DL\\\\DL\\\\caltech-101-img\"\n",
    "dataset_datagen = ImageDataGenerator(rescale=1.0/255)\n",
    "\n",
    "dataset_batch_size = 2000\n",
    "dataset_generator = dataset_datagen.flow_from_directory(\n",
    "    dataset_dir,\n",
    "    target_size=(64,64),\n",
    "    batch_size=dataset_batch_size,\n",
    "    class_mode='categorical',\n",
    "    shuffle= True\n",
    ")"
   ]
  },
  {
   "cell_type": "code",
   "execution_count": 3,
   "id": "db40c6ab",
   "metadata": {},
   "outputs": [],
   "source": [
    "xtrain,ytrain = dataset_generator[0]\n",
    "xtest,ytest = dataset_generator[1]"
   ]
  },
  {
   "cell_type": "code",
   "execution_count": 4,
   "id": "4762f8d0",
   "metadata": {},
   "outputs": [],
   "source": [
    "weights_path = \"vgg16_weights_tf_dim_ordering_tf_kernels_notop.h5\"\n",
    "base_model = VGG16(weights = weights_path, include_top = False, input_shape=(64,64,3))"
   ]
  },
  {
   "cell_type": "code",
   "execution_count": 5,
   "id": "5ad7ff16",
   "metadata": {},
   "outputs": [],
   "source": [
    "for layer in base_model.layers:\n",
    "    layer.trainable = False"
   ]
  },
  {
   "cell_type": "code",
   "execution_count": 6,
   "id": "d3750c15",
   "metadata": {},
   "outputs": [
    {
     "name": "stdout",
     "output_type": "stream",
     "text": [
      "Epoch 1/10\n",
      "32/32 [==============================] - 34s 1s/step - loss: 3.9241 - accuracy: 0.2130 - val_loss: 3.3966 - val_accuracy: 0.2735\n",
      "Epoch 2/10\n",
      "32/32 [==============================] - 39s 1s/step - loss: 2.9625 - accuracy: 0.3540 - val_loss: 2.9602 - val_accuracy: 0.3745\n",
      "Epoch 3/10\n",
      "32/32 [==============================] - 39s 1s/step - loss: 2.4530 - accuracy: 0.4755 - val_loss: 2.5995 - val_accuracy: 0.4470\n",
      "Epoch 4/10\n",
      "32/32 [==============================] - 38s 1s/step - loss: 2.0336 - accuracy: 0.5635 - val_loss: 2.3526 - val_accuracy: 0.4875\n",
      "Epoch 5/10\n",
      "32/32 [==============================] - 38s 1s/step - loss: 1.7042 - accuracy: 0.6295 - val_loss: 2.1926 - val_accuracy: 0.5180\n",
      "Epoch 6/10\n",
      "32/32 [==============================] - 38s 1s/step - loss: 1.4572 - accuracy: 0.6805 - val_loss: 2.0758 - val_accuracy: 0.5385\n",
      "Epoch 7/10\n",
      "32/32 [==============================] - 38s 1s/step - loss: 1.2600 - accuracy: 0.7270 - val_loss: 1.9856 - val_accuracy: 0.5500\n",
      "Epoch 8/10\n",
      "32/32 [==============================] - 39s 1s/step - loss: 1.0924 - accuracy: 0.7750 - val_loss: 1.9144 - val_accuracy: 0.5580\n",
      "Epoch 9/10\n",
      "32/32 [==============================] - 39s 1s/step - loss: 0.9605 - accuracy: 0.8000 - val_loss: 1.8940 - val_accuracy: 0.5545\n",
      "Epoch 10/10\n",
      "32/32 [==============================] - 40s 1s/step - loss: 0.8518 - accuracy: 0.8320 - val_loss: 1.8454 - val_accuracy: 0.5690\n"
     ]
    },
    {
     "data": {
      "text/plain": [
       "<keras.src.callbacks.History at 0x2261c80d1c0>"
      ]
     },
     "execution_count": 6,
     "metadata": {},
     "output_type": "execute_result"
    }
   ],
   "source": [
    "x = Flatten()(base_model.output)\n",
    "x = Dense(64,activation='relu')(x)\n",
    "predictions = Dense(102,activation='softmax')(x)\n",
    "\n",
    "model = Model(inputs=base_model.input,outputs=predictions)\n",
    "\n",
    "model.compile(optimizer='adam',loss='categorical_crossentropy',metrics=['accuracy'])\n",
    "\n",
    "model.fit(xtrain,ytrain,epochs=10,batch_size=64,validation_data=(xtest,ytest))"
   ]
  },
  {
   "cell_type": "code",
   "execution_count": 17,
   "id": "7f3407a9",
   "metadata": {},
   "outputs": [
    {
     "name": "stdout",
     "output_type": "stream",
     "text": [
      "Epoch 1/10\n",
      "32/32 [==============================] - 59s 2s/step - loss: 3.8619 - accuracy: 0.1890 - val_loss: 3.4961 - val_accuracy: 0.2325\n",
      "Epoch 2/10\n",
      "32/32 [==============================] - 61s 2s/step - loss: 3.2129 - accuracy: 0.3110 - val_loss: 3.1668 - val_accuracy: 0.3145\n",
      "Epoch 3/10\n",
      "32/32 [==============================] - 61s 2s/step - loss: 2.8219 - accuracy: 0.3770 - val_loss: 2.8243 - val_accuracy: 0.3740\n",
      "Epoch 4/10\n",
      "32/32 [==============================] - 62s 2s/step - loss: 2.3812 - accuracy: 0.4320 - val_loss: 2.5214 - val_accuracy: 0.4345\n",
      "Epoch 5/10\n",
      "32/32 [==============================] - 62s 2s/step - loss: 1.9066 - accuracy: 0.5160 - val_loss: 2.5714 - val_accuracy: 0.4410\n",
      "Epoch 6/10\n",
      "32/32 [==============================] - 63s 2s/step - loss: 1.6805 - accuracy: 0.5720 - val_loss: 2.1749 - val_accuracy: 0.5130\n",
      "Epoch 7/10\n",
      "32/32 [==============================] - 64s 2s/step - loss: 1.1925 - accuracy: 0.6740 - val_loss: 2.2900 - val_accuracy: 0.5035\n",
      "Epoch 8/10\n",
      "32/32 [==============================] - 64s 2s/step - loss: 0.8403 - accuracy: 0.7560 - val_loss: 2.3103 - val_accuracy: 0.5495\n",
      "Epoch 9/10\n",
      "32/32 [==============================] - 64s 2s/step - loss: 0.5875 - accuracy: 0.8240 - val_loss: 2.2634 - val_accuracy: 0.5465\n",
      "Epoch 10/10\n",
      "32/32 [==============================] - 66s 2s/step - loss: 0.4344 - accuracy: 0.8715 - val_loss: 2.3240 - val_accuracy: 0.5740\n"
     ]
    },
    {
     "data": {
      "text/plain": [
       "<keras.src.callbacks.History at 0x2261919edf0>"
      ]
     },
     "execution_count": 17,
     "metadata": {},
     "output_type": "execute_result"
    }
   ],
   "source": [
    "weights_path = \"vgg16_weights_tf_dim_ordering_tf_kernels_notop.h5\"\n",
    "base_model = VGG16(weights = weights_path, include_top = False, input_shape=(64,64,3))\n",
    "\n",
    "for layer in base_model.layers:\n",
    "    layer.trainable = False\n",
    "    \n",
    "for layer in base_model.layers[len(base_model.layers) - 4:]:\n",
    "    layer.trainable = True\n",
    "\n",
    "x = Flatten()(base_model.output)\n",
    "x = Dense(512,activation='relu')(x)\n",
    "predictions = Dense(102,activation='softmax')(x)\n",
    "\n",
    "model = Model(inputs=base_model.input,outputs=predictions)\n",
    "\n",
    "model.compile(optimizer='adam',loss='categorical_crossentropy',metrics=['accuracy'])\n",
    "\n",
    "model.fit(xtrain,ytrain,epochs=10,batch_size=64,validation_data=(xtest,ytest))"
   ]
  },
  {
   "cell_type": "code",
   "execution_count": 18,
   "id": "7d87e54d",
   "metadata": {},
   "outputs": [
    {
     "name": "stdout",
     "output_type": "stream",
     "text": [
      "63/63 [==============================] - 18s 290ms/step\n"
     ]
    }
   ],
   "source": [
    "ypred = model.predict(xtest)"
   ]
  },
  {
   "cell_type": "code",
   "execution_count": 19,
   "id": "9668b932",
   "metadata": {},
   "outputs": [],
   "source": [
    "labels = list(dataset_generator.class_indices.keys())"
   ]
  },
  {
   "cell_type": "code",
   "execution_count": 20,
   "id": "829a88aa",
   "metadata": {},
   "outputs": [
    {
     "data": {
      "image/png": "[encoded data removed]",
      "text/plain": [
       "<Figure size 432x288 with 1 Axes>"
      ]
     },
     "metadata": {
      "needs_background": "light"
     },
     "output_type": "display_data"
    },
    {
     "name": "stdout",
     "output_type": "stream",
     "text": [
      "Predicted: watch\n",
      "Actual: watch\n"
     ]
    }
   ],
   "source": [
    "n = random.randint(0,99)\n",
    "plt.imshow(xtest[n])\n",
    "plt.show()\n",
    "print(\"Predicted:\",labels[np.argmax(ypred[n])])\n",
    "print(\"Actual:\",labels[np.argmax(ytest[n])])"
   ]
  },
  {
   "cell_type": "code",
   "execution_count": null,
   "id": "15c98059",
   "metadata": {},
   "outputs": [],
   "source": []
  }
 ],
 "metadata": {
  "kernelspec": {
   "display_name": "Python 3 (ipykernel)",
   "language": "python",
   "name": "python3"
  },
  "language_info": {
   "codemirror_mode": {
    "name": "ipython",
    "version": 3
   },
   "file_extension": ".py",
   "mimetype": "text/x-python",
   "name": "python",
   "nbconvert_exporter": "python",
   "pygments_lexer": "ipython3",
   "version": "3.9.7"
  }
 },
 "nbformat": 4,
 "nbformat_minor": 5
}
