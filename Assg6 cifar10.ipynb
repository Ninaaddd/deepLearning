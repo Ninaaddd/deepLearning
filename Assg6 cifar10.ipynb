{
 "cells": [
  {
   "cell_type": "code",
   "execution_count": 3,
   "id": "952432f5",
   "metadata": {},
   "outputs": [],
   "source": [
    "import tensorflow as tf\n",
    "from tensorflow import keras\n",
    "from tensorflow.keras.models import Model\n",
    "from tensorflow.keras.applications import VGG16\n",
    "from tensorflow.keras.layers import Input, Dense, Dropout, Flatten\n",
    "from tensorflow.keras.preprocessing.image import ImageDataGenerator\n",
    "from tensorflow.keras.utils import to_categorical\n",
    "import numpy as np\n",
    "import matplotlib.pyplot as plt"
   ]
  },
  {
   "cell_type": "code",
   "execution_count": 4,
   "id": "01625a1d",
   "metadata": {},
   "outputs": [
    {
     "name": "stdout",
     "output_type": "stream",
     "text": [
      "Found 40079 images belonging to 10 classes.\n",
      "Found 9921 images belonging to 10 classes.\n"
     ]
    }
   ],
   "source": [
    "train_data_dir = \"C:\\\\Users\\\\kulka\\\\Downloads\\\\DL\\\\DL\\\\cifer-10-img\\\\train\"\n",
    "test_data_dir = \"C:\\\\Users\\\\kulka\\\\Downloads\\\\DL\\\\DL\\\\cifer-10-img\\\\test\"\n",
    "\n",
    "train_datagen = ImageDataGenerator(rescale=1.0/255)\n",
    "test_datagen = ImageDataGenerator(rescale=1.0/255)\n",
    "\n",
    "train_batch_size = 5000\n",
    "train_generator = train_datagen.flow_from_directory(\n",
    "    train_data_dir,\n",
    "    target_size=(32,32),\n",
    "    batch_size=train_batch_size,\n",
    "    class_mode='categorical',\n",
    "    shuffle=True\n",
    ")\n",
    "\n",
    "test_batch_size = 1000\n",
    "test_generator = test_datagen.flow_from_directory(\n",
    "    test_data_dir,\n",
    "    target_size=(32,32),\n",
    "    batch_size=test_batch_size,\n",
    "    class_mode='categorical',\n",
    "    shuffle=True\n",
    ")"
   ]
  },
  {
   "cell_type": "code",
   "execution_count": 5,
   "id": "9118936a",
   "metadata": {},
   "outputs": [
    {
     "name": "stdout",
     "output_type": "stream",
     "text": [
      "5000 1000\n"
     ]
    }
   ],
   "source": [
    "xtrain,ytrain = train_generator[0]\n",
    "xtest,ytest = test_generator[0]\n",
    "print(len(xtrain),len(xtest))"
   ]
  },
  {
   "cell_type": "code",
   "execution_count": 6,
   "id": "7f57a73e",
   "metadata": {},
   "outputs": [],
   "source": [
    "weights_path = \"vgg16_weights_tf_dim_ordering_tf_kernels_notop.h5\"\n",
    "base_model = VGG16(weights=weights_path,include_top=False,input_shape=(32,32,3))"
   ]
  },
  {
   "cell_type": "code",
   "execution_count": 7,
   "id": "e223198f",
   "metadata": {},
   "outputs": [],
   "source": [
    "for layer in base_model.layers:\n",
    "    layer.trainable = False"
   ]
  },
  {
   "cell_type": "code",
   "execution_count": 11,
   "id": "78e3846a",
   "metadata": {},
   "outputs": [],
   "source": [
    "x = Flatten()(base_model.output)\n",
    "x = Dense(256,activation='relu')(x)\n",
    "x = Dropout(0.3)(x)\n",
    "x = Dense(256,activation='relu')(x)\n",
    "x = Dropout(0.3)(x)\n",
    "predictions = Dense(10,activation='softmax')(x)\n",
    "\n",
    "model = Model(inputs=base_model.input,outputs=predictions)\n",
    "\n",
    "model.compile(optimizer='adam',loss='categorical_crossentropy',metrics=['accuracy'])"
   ]
  },
  {
   "cell_type": "code",
   "execution_count": 12,
   "id": "2166d2bd",
   "metadata": {},
   "outputs": [
    {
     "name": "stdout",
     "output_type": "stream",
     "text": [
      "Epoch 1/10\n",
      "79/79 [==============================] - 14s 163ms/step - loss: 1.9889 - accuracy: 0.2820 - val_loss: 1.6243 - val_accuracy: 0.4260\n",
      "Epoch 2/10\n",
      "79/79 [==============================] - 14s 172ms/step - loss: 1.5820 - accuracy: 0.4388 - val_loss: 1.4554 - val_accuracy: 0.4870\n",
      "Epoch 3/10\n",
      "79/79 [==============================] - 16s 204ms/step - loss: 1.4493 - accuracy: 0.4862 - val_loss: 1.3993 - val_accuracy: 0.5120\n",
      "Epoch 4/10\n",
      "79/79 [==============================] - 16s 203ms/step - loss: 1.3488 - accuracy: 0.5236 - val_loss: 1.3591 - val_accuracy: 0.5250\n",
      "Epoch 5/10\n",
      "79/79 [==============================] - 16s 203ms/step - loss: 1.2754 - accuracy: 0.5498 - val_loss: 1.2970 - val_accuracy: 0.5460\n",
      "Epoch 6/10\n",
      "79/79 [==============================] - 16s 204ms/step - loss: 1.2267 - accuracy: 0.5708 - val_loss: 1.3224 - val_accuracy: 0.5490\n",
      "Epoch 7/10\n",
      "79/79 [==============================] - 16s 205ms/step - loss: 1.1577 - accuracy: 0.6006 - val_loss: 1.3153 - val_accuracy: 0.5470\n",
      "Epoch 8/10\n",
      "79/79 [==============================] - 16s 204ms/step - loss: 1.1216 - accuracy: 0.6078 - val_loss: 1.3005 - val_accuracy: 0.5510\n",
      "Epoch 9/10\n",
      "79/79 [==============================] - 16s 208ms/step - loss: 1.0653 - accuracy: 0.6274 - val_loss: 1.2796 - val_accuracy: 0.5490\n",
      "Epoch 10/10\n",
      "79/79 [==============================] - 16s 202ms/step - loss: 1.0352 - accuracy: 0.6424 - val_loss: 1.2852 - val_accuracy: 0.5550\n"
     ]
    },
    {
     "data": {
      "text/plain": [
       "<keras.src.callbacks.History at 0x299000847c0>"
      ]
     },
     "execution_count": 12,
     "metadata": {},
     "output_type": "execute_result"
    }
   ],
   "source": [
    "model.fit(xtrain,ytrain,batch_size=64,epochs=10,validation_data=(xtest,ytest))"
   ]
  },
  {
   "cell_type": "code",
   "execution_count": 15,
   "id": "54a068b6",
   "metadata": {},
   "outputs": [
    {
     "name": "stdout",
     "output_type": "stream",
     "text": [
      "Epoch 1/10\n",
      "79/79 [==============================] - 48s 595ms/step - loss: 2.0613 - accuracy: 0.1990 - val_loss: 1.8112 - val_accuracy: 0.2820\n",
      "Epoch 2/10\n",
      "79/79 [==============================] - 48s 609ms/step - loss: 1.5567 - accuracy: 0.4220 - val_loss: 1.3711 - val_accuracy: 0.5080\n",
      "Epoch 3/10\n",
      "79/79 [==============================] - 49s 624ms/step - loss: 1.2156 - accuracy: 0.5784 - val_loss: 1.1759 - val_accuracy: 0.5830\n",
      "Epoch 4/10\n",
      "79/79 [==============================] - 47s 592ms/step - loss: 0.9929 - accuracy: 0.6640 - val_loss: 1.1424 - val_accuracy: 0.6330\n",
      "Epoch 5/10\n",
      "79/79 [==============================] - 49s 615ms/step - loss: 0.8470 - accuracy: 0.7140 - val_loss: 1.1874 - val_accuracy: 0.6260\n",
      "Epoch 6/10\n",
      "79/79 [==============================] - 48s 613ms/step - loss: 0.7153 - accuracy: 0.7630 - val_loss: 1.1229 - val_accuracy: 0.6590\n",
      "Epoch 7/10\n",
      "79/79 [==============================] - 48s 608ms/step - loss: 0.6244 - accuracy: 0.7970 - val_loss: 1.3313 - val_accuracy: 0.6340\n",
      "Epoch 8/10\n",
      "79/79 [==============================] - 48s 612ms/step - loss: 0.5550 - accuracy: 0.8132 - val_loss: 1.2419 - val_accuracy: 0.6300\n",
      "Epoch 9/10\n",
      "79/79 [==============================] - 49s 620ms/step - loss: 0.4471 - accuracy: 0.8546 - val_loss: 1.2233 - val_accuracy: 0.6560\n",
      "Epoch 10/10\n",
      "79/79 [==============================] - 48s 612ms/step - loss: 0.3665 - accuracy: 0.8788 - val_loss: 1.6020 - val_accuracy: 0.6240\n"
     ]
    },
    {
     "data": {
      "text/plain": [
       "<keras.src.callbacks.History at 0x29900559df0>"
      ]
     },
     "execution_count": 15,
     "metadata": {},
     "output_type": "execute_result"
    }
   ],
   "source": [
    "base_model = VGG16(weights=weights_path,include_top=False,input_shape=(32,32,3))\n",
    "\n",
    "for layer in base_model.layers:\n",
    "    layer.trainable= False\n",
    "\n",
    "for layer in base_model.layers[len(base_model.layers) - 4:]:\n",
    "    layer.trainable = True\n",
    "    \n",
    "x = Flatten()(base_model.output)\n",
    "x = Dense(256,activation='relu')(x)\n",
    "x = Dropout(0.3)(x)\n",
    "x = Dense(512,activation='relu')(x)\n",
    "x = Dropout(0.3)(x)\n",
    "predictions = Dense(10,activation='softmax')(x)\n",
    "\n",
    "model = Model(inputs=base_model.input,outputs=predictions)\n",
    "\n",
    "model.compile(optimizer='adam',loss='categorical_crossentropy',metrics=['accuracy'])\n",
    "\n",
    "model.fit(xtrain,ytrain,batch_size=64,epochs=10,validation_data=(xtest,ytest))"
   ]
  },
  {
   "cell_type": "code",
   "execution_count": 16,
   "id": "dfc398d1",
   "metadata": {},
   "outputs": [
    {
     "name": "stdout",
     "output_type": "stream",
     "text": [
      "32/32 [==============================] - 3s 95ms/step\n"
     ]
    }
   ],
   "source": [
    "predicted_value = model.predict(xtest)"
   ]
  },
  {
   "cell_type": "code",
   "execution_count": 17,
   "id": "30175204",
   "metadata": {},
   "outputs": [],
   "source": [
    "labels = list(test_generator.class_indices.keys())"
   ]
  },
  {
   "cell_type": "code",
   "execution_count": 18,
   "id": "9006eacc",
   "metadata": {},
   "outputs": [
    {
     "data": {
      "image/png": "[encoded data removed]",
      "text/plain": [
       "<Figure size 432x288 with 1 Axes>"
      ]
     },
     "metadata": {
      "needs_background": "light"
     },
     "output_type": "display_data"
    },
    {
     "name": "stdout",
     "output_type": "stream",
     "text": [
      "Predicted: frog\n",
      "Actual: frog\n"
     ]
    }
   ],
   "source": [
    "n = 32\n",
    "plt.imshow(xtest[n])\n",
    "plt.show()\n",
    "print(\"Predicted:\",labels[np.argmax(predicted_value[n])])\n",
    "print(\"Actual:\",labels[np.argmax(ytest[n])])"
   ]
  },
  {
   "cell_type": "code",
   "execution_count": null,
   "id": "76e783de",
   "metadata": {},
   "outputs": [],
   "source": []
  }
 ],
 "metadata": {
  "kernelspec": {
   "display_name": "Python 3 (ipykernel)",
   "language": "python",
   "name": "python3"
  },
  "language_info": {
   "codemirror_mode": {
    "name": "ipython",
    "version": 3
   },
   "file_extension": ".py",
   "mimetype": "text/x-python",
   "name": "python",
   "nbconvert_exporter": "python",
   "pygments_lexer": "ipython3",
   "version": "3.9.7"
  }
 },
 "nbformat": 4,
 "nbformat_minor": 5
}
