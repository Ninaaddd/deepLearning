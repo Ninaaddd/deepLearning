{
 "cells": [
  {
   "cell_type": "code",
   "execution_count": 6,
   "id": "abcbc336",
   "metadata": {},
   "outputs": [],
   "source": [
    "import pandas as pd\n",
    "import numpy as np\n",
    "import matplotlib.pyplot as plt\n",
    "import seaborn as sns\n",
    "import tensorflow as tf\n",
    "from tensorflow import keras\n",
    "from tensorflow.keras.layers import Conv2D,MaxPooling2D,Flatten,Dense,Input\n",
    "from tensorflow.keras.models import Sequential\n",
    "from sklearn.preprocessing import StandardScaler\n",
    "from sklearn.model_selection import train_test_split\n",
    "from sklearn.metrics import confusion_matrix,classification_report"
   ]
  },
  {
   "cell_type": "code",
   "execution_count": 2,
   "id": "3a1d10bf",
   "metadata": {},
   "outputs": [],
   "source": [
    "path = \"C:\\\\Users\\\\kulka\\\\Downloads\\\\DL\\\\DL\\\\creditcardfraud-csv\\\\creditcard.csv\"\n",
    "dataset = pd.read_csv(path)"
   ]
  },
  {
   "cell_type": "code",
   "execution_count": 3,
   "id": "3f9c0d98",
   "metadata": {},
   "outputs": [],
   "source": [
    "scaler = StandardScaler()\n",
    "x = scaler.fit_transform(dataset.drop('Class',axis=1))\n",
    "y = dataset['Class']"
   ]
  },
  {
   "cell_type": "code",
   "execution_count": 4,
   "id": "4bcce87c",
   "metadata": {},
   "outputs": [],
   "source": [
    "xtrain, xtest, ytrain, ytest = train_test_split(x,y,random_state=42,test_size=0.2)"
   ]
  },
  {
   "cell_type": "code",
   "execution_count": 5,
   "id": "758565f3",
   "metadata": {},
   "outputs": [],
   "source": [
    "input_dim = xtrain.shape[1]"
   ]
  },
  {
   "cell_type": "code",
   "execution_count": 7,
   "id": "67ffee95",
   "metadata": {},
   "outputs": [],
   "source": [
    "encoder = Sequential([Input(shape=(input_dim,)),\n",
    "                     Dense(32,activation=\"relu\"),\n",
    "                     Dense(16,activation=\"relu\")])\n",
    "\n",
    "decoder = Sequential([Input(shape=(16,)),\n",
    "                     Dense(32,activation=\"relu\"),\n",
    "                     Dense(input_dim,activation=\"linear\")])\n",
    "\n",
    "autoencoder = Sequential([encoder,\n",
    "                         decoder])"
   ]
  },
  {
   "cell_type": "code",
   "execution_count": 8,
   "id": "6e5b0a69",
   "metadata": {},
   "outputs": [],
   "source": [
    "autoencoder.compile(optimizer=\"adam\",loss=\"mean_squared_error\")"
   ]
  },
  {
   "cell_type": "code",
   "execution_count": 9,
   "id": "96959435",
   "metadata": {},
   "outputs": [
    {
     "name": "stdout",
     "output_type": "stream",
     "text": [
      "Epoch 1/10\n",
      "7121/7121 [==============================] - 13s 2ms/step - loss: 0.3235 - val_loss: 0.1930\n",
      "Epoch 2/10\n",
      "7121/7121 [==============================] - 12s 2ms/step - loss: 0.1647 - val_loss: 0.1279\n",
      "Epoch 3/10\n",
      "7121/7121 [==============================] - 13s 2ms/step - loss: 0.1162 - val_loss: 0.1030\n",
      "Epoch 4/10\n",
      "7121/7121 [==============================] - 13s 2ms/step - loss: 0.0943 - val_loss: 0.0921\n",
      "Epoch 5/10\n",
      "7121/7121 [==============================] - 13s 2ms/step - loss: 0.0809 - val_loss: 0.0783\n",
      "Epoch 6/10\n",
      "7121/7121 [==============================] - 12s 2ms/step - loss: 0.0744 - val_loss: 0.0705\n",
      "Epoch 7/10\n",
      "7121/7121 [==============================] - 13s 2ms/step - loss: 0.0699 - val_loss: 0.0634\n",
      "Epoch 8/10\n",
      "7121/7121 [==============================] - 12s 2ms/step - loss: 0.0675 - val_loss: 0.0643\n",
      "Epoch 9/10\n",
      "7121/7121 [==============================] - 13s 2ms/step - loss: 0.0646 - val_loss: 0.0577\n",
      "Epoch 10/10\n",
      "7121/7121 [==============================] - 13s 2ms/step - loss: 0.0630 - val_loss: 0.0606\n"
     ]
    },
    {
     "data": {
      "text/plain": [
       "<keras.src.callbacks.History at 0x1a0c43151f0>"
      ]
     },
     "execution_count": 9,
     "metadata": {},
     "output_type": "execute_result"
    }
   ],
   "source": [
    "autoencoder.fit(xtrain,xtrain,epochs=10,validation_data=(xtest,xtest),batch_size=32,shuffle=True)"
   ]
  },
  {
   "cell_type": "code",
   "execution_count": 11,
   "id": "86d5f35b",
   "metadata": {},
   "outputs": [
    {
     "name": "stdout",
     "output_type": "stream",
     "text": [
      "1781/1781 [==============================] - 2s 854us/step\n"
     ]
    }
   ],
   "source": [
    "ypred = autoencoder.predict(xtest)\n",
    "mse = np.mean(np.power(xtest - ypred,2),axis=1)"
   ]
  },
  {
   "cell_type": "code",
   "execution_count": 12,
   "id": "1e79da2c",
   "metadata": {},
   "outputs": [
    {
     "data": {
      "image/png": "[encoded data removed]",
      "text/plain": [
       "<Figure size 720x432 with 1 Axes>"
      ]
     },
     "metadata": {
      "needs_background": "light"
     },
     "output_type": "display_data"
    }
   ],
   "source": [
    "plt.figure(figsize=(10,6))\n",
    "plt.hist(mse,bins=50,alpha=0.5,color='b',label='Reconstruction Error')\n",
    "plt.xlabel('Reconstruction Error')\n",
    "plt.ylabel('Frequency')\n",
    "plt.title('Reconstruction Error Distribution')\n",
    "plt.legend()\n",
    "plt.show()"
   ]
  },
  {
   "cell_type": "code",
   "execution_count": 13,
   "id": "e08168ab",
   "metadata": {},
   "outputs": [],
   "source": [
    "thresholds = np.arange(0.1,1.0,0.1)\n",
    "for threshold in thresholds:\n",
    "    anomalies = mse > threshold"
   ]
  },
  {
   "cell_type": "code",
   "execution_count": 16,
   "id": "c2ed6636",
   "metadata": {},
   "outputs": [
    {
     "name": "stdout",
     "output_type": "stream",
     "text": [
      "Threshold: 0.9\n",
      "No. of anomalies: 290\n"
     ]
    }
   ],
   "source": [
    "num_anomalies = np.sum(anomalies)\n",
    "print(\"Threshold:\",threshold)\n",
    "print(\"No. of anomalies:\",num_anomalies)"
   ]
  },
  {
   "cell_type": "code",
   "execution_count": 17,
   "id": "97f10732",
   "metadata": {},
   "outputs": [
    {
     "name": "stdout",
     "output_type": "stream",
     "text": [
      "confusion matrix:\n",
      "[[56618   246]\n",
      " [   54    44]]\n",
      "--------------------------------------------------------------\n",
      "Classification Report:\n",
      "              precision    recall  f1-score   support\n",
      "\n",
      "           0       1.00      1.00      1.00     56864\n",
      "           1       0.15      0.45      0.23        98\n",
      "\n",
      "    accuracy                           0.99     56962\n",
      "   macro avg       0.58      0.72      0.61     56962\n",
      "weighted avg       1.00      0.99      1.00     56962\n",
      "\n"
     ]
    }
   ],
   "source": [
    "print(\"confusion matrix:\")\n",
    "print(confusion_matrix(ytest,anomalies))\n",
    "print(\"--------------------------------------------------------------\")\n",
    "print(\"Classification Report:\")\n",
    "print(classification_report(ytest,anomalies))"
   ]
  },
  {
   "cell_type": "code",
   "execution_count": 18,
   "id": "965762ee",
   "metadata": {},
   "outputs": [
    {
     "data": {
      "image/png": "[encoded data removed]",
      "text/plain": [
       "<Figure size 432x342 with 2 Axes>"
      ]
     },
     "metadata": {
      "needs_background": "light"
     },
     "output_type": "display_data"
    }
   ],
   "source": [
    "plt.figure(figsize=(6,4.75))\n",
    "sns.heatmap(confusion_matrix(ytest,anomalies),annot=True,annot_kws={'size': 16},fmt='d')\n",
    "plt.xticks([0.5,1.5],rotation='horizontal')\n",
    "plt.yticks([0.5,1.5],rotation='horizontal')\n",
    "plt.xlabel('Predicted Value')\n",
    "plt.ylabel('Actual Value')\n",
    "plt.title(\"Confusion Matrix\")\n",
    "plt.grid(False)\n",
    "plt.show()"
   ]
  },
  {
   "cell_type": "code",
   "execution_count": null,
   "id": "4af00cd9",
   "metadata": {},
   "outputs": [],
   "source": []
  }
 ],
 "metadata": {
  "kernelspec": {
   "display_name": "Python 3 (ipykernel)",
   "language": "python",
   "name": "python3"
  },
  "language_info": {
   "codemirror_mode": {
    "name": "ipython",
    "version": 3
   },
   "file_extension": ".py",
   "mimetype": "text/x-python",
   "name": "python",
   "nbconvert_exporter": "python",
   "pygments_lexer": "ipython3",
   "version": "3.9.7"
  }
 },
 "nbformat": 4,
 "nbformat_minor": 5
}
