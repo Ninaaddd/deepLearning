{
 "cells": [
  {
   "cell_type": "code",
   "execution_count": 1,
   "id": "90a370aa",
   "metadata": {},
   "outputs": [
    {
     "name": "stderr",
     "output_type": "stream",
     "text": [
      "C:\\Users\\kulka\\anaconda3\\lib\\site-packages\\scipy\\__init__.py:146: UserWarning: A NumPy version >=1.16.5 and <1.23.0 is required for this version of SciPy (detected version 1.24.3\n",
      "  warnings.warn(f\"A NumPy version >={np_minversion} and <{np_maxversion}\"\n"
     ]
    }
   ],
   "source": [
    "import matplotlib.pyplot as plt\n",
    "import seaborn as sns\n",
    "import matplotlib as mpl\n",
    "import matplotlib.pylab as pylab\n",
    "import numpy as np"
   ]
  },
  {
   "cell_type": "code",
   "execution_count": 2,
   "id": "ec77dd5b",
   "metadata": {},
   "outputs": [],
   "source": [
    "import re\n",
    "sentences = \"\"\"We are about to study the idea of computational proces. Computational processes are abstract beings that inhabit computers. As they evolve. processes manipulate other abstract things called data. The evolution of a process is directed by a pattern of rules called a program. People create programs to direct processes. In effect, we conjure the spirits of the computer with out spells.\"\"\""
   ]
  },
  {
   "cell_type": "code",
   "execution_count": 3,
   "id": "136a8752",
   "metadata": {},
   "outputs": [],
   "source": [
    "sentences = re.sub('[^A-Za-z0-9]+',' ', sentences)"
   ]
  },
  {
   "cell_type": "code",
   "execution_count": 5,
   "id": "a74f7d28",
   "metadata": {},
   "outputs": [],
   "source": [
    "sentences = re.sub(r'(?:^| )\\w(?:$| )', ' ',sentences).strip()"
   ]
  },
  {
   "cell_type": "code",
   "execution_count": 7,
   "id": "a560b9f0",
   "metadata": {},
   "outputs": [],
   "source": [
    "sentences = sentences.lower()"
   ]
  },
  {
   "cell_type": "code",
   "execution_count": 12,
   "id": "b3a57c67",
   "metadata": {},
   "outputs": [],
   "source": [
    "words = sentences.split()\n",
    "vocab = set(words)\n",
    "vocab_size = len(vocab)\n",
    "embed_dim = 10\n",
    "context_size = 2"
   ]
  },
  {
   "cell_type": "code",
   "execution_count": 14,
   "id": "652751ec",
   "metadata": {},
   "outputs": [],
   "source": [
    "word_to_ix = {word: i for  i, word in enumerate(vocab)}\n",
    "ix_to_word = {i: word for i, word in enumerate(vocab)}"
   ]
  },
  {
   "cell_type": "code",
   "execution_count": 15,
   "id": "a42fd442",
   "metadata": {},
   "outputs": [
    {
     "name": "stdout",
     "output_type": "stream",
     "text": [
      "[(['we', 'are', 'to', 'study'], 'about'), (['are', 'about', 'study', 'the'], 'to'), (['about', 'to', 'the', 'idea'], 'study'), (['to', 'study', 'idea', 'of'], 'the'), (['study', 'the', 'of', 'computational'], 'idea')]\n"
     ]
    }
   ],
   "source": [
    "data = []\n",
    "for i in range(2, len(words) - 2):\n",
    "    context = [words[i - 2],words[i - 1],words[i + 1],words[i + 2]]\n",
    "    target = words[i]\n",
    "    data.append((context,target))\n",
    "print(data[:5])"
   ]
  },
  {
   "cell_type": "code",
   "execution_count": 17,
   "id": "cecc3965",
   "metadata": {},
   "outputs": [],
   "source": [
    "embeddings = np.random.random_sample((vocab_size,embed_dim))"
   ]
  },
  {
   "cell_type": "code",
   "execution_count": 18,
   "id": "fb879378",
   "metadata": {},
   "outputs": [],
   "source": [
    "def linear(m, theta):\n",
    "    w = theta\n",
    "    return m.dot(w)"
   ]
  },
  {
   "cell_type": "code",
   "execution_count": 43,
   "id": "db0b9467",
   "metadata": {},
   "outputs": [],
   "source": [
    "def log_softmax(x):\n",
    "    e_x = np.exp(x - np.max(x))\n",
    "    return np.log(e_x/e_x.sum())\n",
    "def NLLLoss(logs, targets):\n",
    "    out = logs[range(len(targets)), targets]\n",
    "    return -out.sum()/len(out)\n",
    "def log_softmax_crossentropy_with_logits(logits,target):\n",
    "    out = np.zeros_like(logits)\n",
    "    out[np.arange(len(logits)),target] = 1\n",
    "    softmax = np.exp(logits) / np.exp(logits).sum(axis=-1,keepdims=True)\n",
    "    return(- out + softmax) / logits.shape[0]"
   ]
  },
  {
   "cell_type": "code",
   "execution_count": 44,
   "id": "af54cd4a",
   "metadata": {},
   "outputs": [],
   "source": [
    "def forward(contect_idxs, theta):\n",
    "    m = embeddings[contect_idxs].reshape(1,-1)\n",
    "    n = linear(m,theta)\n",
    "    o = log_softmax(n)\n",
    "    return m, n, o"
   ]
  },
  {
   "cell_type": "code",
   "execution_count": 45,
   "id": "4a5c09f8",
   "metadata": {},
   "outputs": [],
   "source": [
    "def backward(preds, theta, target_idxs):\n",
    "    m, n, o = preds\n",
    "    dlog = log_softmax_crossentropy_with_logits(n, target_idxs)\n",
    "    dw = m.T.dot(dlog)\n",
    "    return dw"
   ]
  },
  {
   "cell_type": "code",
   "execution_count": 46,
   "id": "7396509c",
   "metadata": {},
   "outputs": [],
   "source": [
    "def optimize(theta, grad, lr=0.03):\n",
    "    theta -= grad * lr\n",
    "    return theta"
   ]
  },
  {
   "cell_type": "code",
   "execution_count": 48,
   "id": "56744fe4",
   "metadata": {},
   "outputs": [
    {
     "data": {
      "text/plain": [
       "Text(0, 0.5, 'Losses')"
      ]
     },
     "execution_count": 48,
     "metadata": {},
     "output_type": "execute_result"
    },
    {
     "data": {
      "image/png": "[encoded data removed]",
      "text/plain": [
       "<Figure size 432x288 with 1 Axes>"
      ]
     },
     "metadata": {
      "needs_background": "light"
     },
     "output_type": "display_data"
    }
   ],
   "source": [
    "theta = np.random.uniform(-1, 1, (2 * context_size * embed_dim, vocab_size))\n",
    "epoch_losses = {}\n",
    "for epoch in range(80):\n",
    "    losses = []\n",
    "    for context, target in data:\n",
    "        contect_idxs = np.array([word_to_ix[w] for w in context])\n",
    "        preds = forward(contect_idxs, theta)\n",
    "        target_idxs = np.array([word_to_ix[target]])\n",
    "        loss = NLLLoss(preds[-1], target_idxs)\n",
    "        losses.append(loss)\n",
    "        grad = backward(preds, theta, target_idxs)\n",
    "        theta = optimize(theta, grad, lr=0.03)\n",
    "    epoch_losses[epoch] = losses\n",
    "    ix = np.arange(0,80)\n",
    "fig = plt.figure()\n",
    "fig.suptitle('Epoch/Losses', fontsize=20)\n",
    "plt.plot(ix, [epoch_losses[i][0] for i in ix])\n",
    "plt.xlabel('Epochs',fontsize=12)\n",
    "plt.ylabel('Losses',fontsize=12)\n",
    "#Text(0, 0.5, 'Losses')"
   ]
  },
  {
   "cell_type": "code",
   "execution_count": 49,
   "id": "2e1ff358",
   "metadata": {},
   "outputs": [],
   "source": [
    "def predict(words):\n",
    "    context_idxs = np.array([word_to_ix[w] for w in words])\n",
    "    preds = forward(context_idxs, theta)\n",
    "    word = ix_to_word[np.argmax(preds[-1])]\n",
    "    return word"
   ]
  },
  {
   "cell_type": "code",
   "execution_count": 50,
   "id": "b4c6b414",
   "metadata": {},
   "outputs": [
    {
     "data": {
      "text/plain": [
       "'other'"
      ]
     },
     "execution_count": 50,
     "metadata": {},
     "output_type": "execute_result"
    }
   ],
   "source": [
    "def accuracy():\n",
    "    wrong = 0\n",
    "    for context, target in data:\n",
    "        if(predict(context) != target):\n",
    "            wrong += 1\n",
    "    return(1 - (wrong / len(data)))\n",
    "accuracy()\n",
    "predict(['processes','manipulate','things','study'])"
   ]
  },
  {
   "cell_type": "code",
   "execution_count": null,
   "id": "499d74b1",
   "metadata": {},
   "outputs": [],
   "source": []
  }
 ],
 "metadata": {
  "kernelspec": {
   "display_name": "Python 3 (ipykernel)",
   "language": "python",
   "name": "python3"
  },
  "language_info": {
   "codemirror_mode": {
    "name": "ipython",
    "version": 3
   },
   "file_extension": ".py",
   "mimetype": "text/x-python",
   "name": "python",
   "nbconvert_exporter": "python",
   "pygments_lexer": "ipython3",
   "version": "3.9.7"
  }
 },
 "nbformat": 4,
 "nbformat_minor": 5
}
